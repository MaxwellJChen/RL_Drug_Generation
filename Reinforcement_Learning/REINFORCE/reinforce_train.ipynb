{
 "cells": [
  {
   "cell_type": "code",
   "execution_count": 62,
   "id": "initial_id",
   "metadata": {
    "collapsed": true,
    "ExecuteTime": {
     "end_time": "2023-10-22T03:06:12.177180Z",
     "start_time": "2023-10-22T03:06:12.171997Z"
    }
   },
   "outputs": [],
   "source": [
    "# Import packages\n",
    "import torch\n",
    "from torch.optim import Adam\n",
    "from Model.SURGE import SURGE\n",
    "from Reinforcement_Learning.mol_env import vectorized_mol_env\n",
    "from Model.graph_embedding import batch_from_states\n",
    "import numpy as np\n",
    "from tqdm import trange\n",
    "import datetime\n",
    "import wandb\n",
    "import copy\n",
    "import rdkit.Chem.QED as QED\n",
    "import sys\n",
    "import os\n",
    "from rdkit.Chem import RDConfig # SAS\n",
    "sys.path.append(os.path.join(RDConfig.RDContribDir, 'SA_Score'))\n",
    "import sascorer"
   ]
  },
  {
   "cell_type": "code",
   "execution_count": 19,
   "outputs": [],
   "source": [
    "model = SURGE()\n",
    "max_steps = 200\n",
    "num_envs = 4\n",
    "env = vectorized_mol_env(num_envs = num_envs, max_steps = max_steps) # Vectorized molecular environment\n",
    "lr = 0.02\n",
    "optimizer = Adam(lr = lr, params = model.parameters())"
   ],
   "metadata": {
    "collapsed": false,
    "ExecuteTime": {
     "end_time": "2023-10-22T01:21:18.131137Z",
     "start_time": "2023-10-22T01:21:18.122946Z"
    }
   },
   "id": "7f32500a4953f295"
  },
  {
   "cell_type": "code",
   "execution_count": 20,
   "outputs": [],
   "source": [
    "gamma = 0.99\n",
    "eps = np.finfo(np.float32).eps.item() # Small constant to decrease numerical instability\n",
    "num_episodes = 500"
   ],
   "metadata": {
    "collapsed": false,
    "ExecuteTime": {
     "end_time": "2023-10-22T01:21:18.841508Z",
     "start_time": "2023-10-22T01:21:18.838587Z"
    }
   },
   "id": "5ad436df1363c9c3"
  },
  {
   "cell_type": "code",
   "execution_count": 21,
   "outputs": [
    {
     "name": "stderr",
     "output_type": "stream",
     "text": [
      "\u001B[34m\u001B[1mwandb\u001B[0m: Currently logged in as: \u001B[33mmaxwelljchen\u001B[0m. Use \u001B[1m`wandb login --relogin`\u001B[0m to force relogin\n"
     ]
    },
    {
     "data": {
      "text/plain": "<IPython.core.display.HTML object>",
      "text/html": "Tracking run with wandb version 0.15.12"
     },
     "metadata": {},
     "output_type": "display_data"
    },
    {
     "data": {
      "text/plain": "<IPython.core.display.HTML object>",
      "text/html": "Run data is saved locally in <code>/Users/maxwellchen/PycharmProjects/RL_Drug_Generation/Reinforcement_Learning/REINFORCE/wandb/run-20231021_202121-tikmf9vr</code>"
     },
     "metadata": {},
     "output_type": "display_data"
    },
    {
     "data": {
      "text/plain": "<IPython.core.display.HTML object>",
      "text/html": "Syncing run <strong><a href='https://wandb.ai/maxwelljchen/RL_Drug_Generation/runs/tikmf9vr' target=\"_blank\">REINFORCE---2023-10-21-20-21-19</a></strong> to <a href='https://wandb.ai/maxwelljchen/RL_Drug_Generation' target=\"_blank\">Weights & Biases</a> (<a href='https://wandb.me/run' target=\"_blank\">docs</a>)<br/>"
     },
     "metadata": {},
     "output_type": "display_data"
    },
    {
     "data": {
      "text/plain": "<IPython.core.display.HTML object>",
      "text/html": " View project at <a href='https://wandb.ai/maxwelljchen/RL_Drug_Generation' target=\"_blank\">https://wandb.ai/maxwelljchen/RL_Drug_Generation</a>"
     },
     "metadata": {},
     "output_type": "display_data"
    },
    {
     "data": {
      "text/plain": "<IPython.core.display.HTML object>",
      "text/html": " View run at <a href='https://wandb.ai/maxwelljchen/RL_Drug_Generation/runs/tikmf9vr' target=\"_blank\">https://wandb.ai/maxwelljchen/RL_Drug_Generation/runs/tikmf9vr</a>"
     },
     "metadata": {},
     "output_type": "display_data"
    },
    {
     "data": {
      "text/html": "<button onClick=\"this.nextSibling.style.display='block';this.style.display='none';\">Display W&B run</button><iframe src='https://wandb.ai/maxwelljchen/RL_Drug_Generation/runs/tikmf9vr?jupyter=true' style='border:none;width:100%;height:420px;display:none;'></iframe>",
      "text/plain": "<wandb.sdk.wandb_run.Run at 0x2cfba0ac0>"
     },
     "execution_count": 21,
     "metadata": {},
     "output_type": "execute_result"
    }
   ],
   "source": [
    "current_datetime = datetime.datetime.now()\n",
    "current_time = current_datetime.strftime(\"%Y-%m-%d-%H-%M-%S\")\n",
    "\n",
    "wandb.init(\n",
    "    project = 'RL_Drug_Generation',\n",
    "    name= f'REINFORCE---{current_time}',\n",
    "    config={\n",
    "        'lr': lr,\n",
    "        'architecture': str(model),\n",
    "        'episodes': num_episodes,\n",
    "        'gamma': gamma,\n",
    "        'num_envs': num_envs\n",
    "    })"
   ],
   "metadata": {
    "collapsed": false,
    "ExecuteTime": {
     "end_time": "2023-10-22T01:21:24.959824Z",
     "start_time": "2023-10-22T01:21:19.650077Z"
    }
   },
   "id": "4af6d57c08a0eaec"
  },
  {
   "cell_type": "code",
   "execution_count": 63,
   "outputs": [
    {
     "name": "stderr",
     "output_type": "stream",
     "text": [
      "[22:11:54] \n",
      "\n",
      "****\n",
      "Pre-condition Violation\n",
      "getNumImplicitHs() called without preceding call to calcImplicitValence()\n",
      "Violation occurred on line 299 in file /Users/runner/work/rdkit-pypi/rdkit-pypi/build/temp.macosx-11.0-arm64-cpython-38/rdkit/Code/GraphMol/Atom.cpp\n",
      "Failed Expression: d_implicitValence > -1\n",
      "****\n",
      "\n"
     ]
    },
    {
     "ename": "RuntimeError",
     "evalue": "Pre-condition Violation\n\tgetNumImplicitHs() called without preceding call to calcImplicitValence()\n\tViolation occurred on line 299 in file Code/GraphMol/Atom.cpp\n\tFailed Expression: d_implicitValence > -1\n\tRDKIT: 2023.03.3\n\tBOOST: 1_78\n",
     "output_type": "error",
     "traceback": [
      "\u001B[0;31m---------------------------------------------------------------------------\u001B[0m",
      "\u001B[0;31mRuntimeError\u001B[0m                              Traceback (most recent call last)",
      "Cell \u001B[0;32mIn[63], line 44\u001B[0m\n\u001B[1;32m     42\u001B[0m block_head \u001B[38;5;241m=\u001B[39m copy\u001B[38;5;241m.\u001B[39mdeepcopy(saved_states)\n\u001B[1;32m     43\u001B[0m block_bed \u001B[38;5;241m=\u001B[39m copy\u001B[38;5;241m.\u001B[39mdeepcopy(saved_actions)\n\u001B[0;32m---> 44\u001B[0m \u001B[38;5;28mprint\u001B[39m(\u001B[43mevaluate\u001B[49m\u001B[43m(\u001B[49m\u001B[43mblock_head\u001B[49m\u001B[43m,\u001B[49m\u001B[43m \u001B[49m\u001B[43mblock_bed\u001B[49m\u001B[43m)\u001B[49m)\n",
      "Cell \u001B[0;32mIn[63], line 35\u001B[0m, in \u001B[0;36mevaluate\u001B[0;34m(saved_states, saved_actions)\u001B[0m\n\u001B[1;32m     33\u001B[0m     metrics[\u001B[38;5;124m'\u001B[39m\u001B[38;5;124msize\u001B[39m\u001B[38;5;124m'\u001B[39m] \u001B[38;5;241m+\u001B[39m\u001B[38;5;241m=\u001B[39m finished_states[i]\u001B[38;5;241m.\u001B[39mGetNumAtoms()\n\u001B[1;32m     34\u001B[0m     metrics[\u001B[38;5;124m'\u001B[39m\u001B[38;5;124mQED\u001B[39m\u001B[38;5;124m'\u001B[39m] \u001B[38;5;241m+\u001B[39m\u001B[38;5;241m=\u001B[39m QED\u001B[38;5;241m.\u001B[39mweights_mean(finished_states[i])\n\u001B[0;32m---> 35\u001B[0m     metrics[\u001B[38;5;124m'\u001B[39m\u001B[38;5;124mSAS\u001B[39m\u001B[38;5;124m'\u001B[39m] \u001B[38;5;241m+\u001B[39m\u001B[38;5;241m=\u001B[39m \u001B[43msascorer\u001B[49m\u001B[38;5;241;43m.\u001B[39;49m\u001B[43mcalculateScore\u001B[49m\u001B[43m(\u001B[49m\u001B[43mfinished_states\u001B[49m\u001B[43m[\u001B[49m\u001B[43mi\u001B[49m\u001B[43m]\u001B[49m\u001B[43m)\u001B[49m\n\u001B[1;32m     37\u001B[0m \u001B[38;5;28;01mfor\u001B[39;00m name \u001B[38;5;129;01min\u001B[39;00m metric_names:\n\u001B[1;32m     38\u001B[0m     metrics[name] \u001B[38;5;241m/\u001B[39m\u001B[38;5;241m=\u001B[39m num_mols\n",
      "File \u001B[0;32m~/anaconda3/envs/RL_Drug_Generation/lib/python3.8/site-packages/rdkit/Contrib/SA_Score/sascorer.py:55\u001B[0m, in \u001B[0;36mcalculateScore\u001B[0;34m(m)\u001B[0m\n\u001B[1;32m     52\u001B[0m   readFragmentScores()\n\u001B[1;32m     54\u001B[0m \u001B[38;5;66;03m# fragment score\u001B[39;00m\n\u001B[0;32m---> 55\u001B[0m fp \u001B[38;5;241m=\u001B[39m \u001B[43mrdMolDescriptors\u001B[49m\u001B[38;5;241;43m.\u001B[39;49m\u001B[43mGetMorganFingerprint\u001B[49m\u001B[43m(\u001B[49m\u001B[43mm\u001B[49m\u001B[43m,\u001B[49m\n\u001B[1;32m     56\u001B[0m \u001B[43m                                           \u001B[49m\u001B[38;5;241;43m2\u001B[39;49m\u001B[43m)\u001B[49m  \u001B[38;5;66;03m# <- 2 is the *radius* of the circular fingerprint\u001B[39;00m\n\u001B[1;32m     57\u001B[0m fps \u001B[38;5;241m=\u001B[39m fp\u001B[38;5;241m.\u001B[39mGetNonzeroElements()\n\u001B[1;32m     58\u001B[0m score1 \u001B[38;5;241m=\u001B[39m \u001B[38;5;241m0.\u001B[39m\n",
      "\u001B[0;31mRuntimeError\u001B[0m: Pre-condition Violation\n\tgetNumImplicitHs() called without preceding call to calcImplicitValence()\n\tViolation occurred on line 299 in file Code/GraphMol/Atom.cpp\n\tFailed Expression: d_implicitValence > -1\n\tRDKIT: 2023.03.3\n\tBOOST: 1_78\n"
     ]
    }
   ],
   "source": [
    "def evaluate(saved_states, saved_actions):\n",
    "    \"\"\"\n",
    "    This methods evaluates the molecules generated during the episode and returns diversity, novelty, and validity.\n",
    "    It also analyzes the molecule metrics of drug-likeness (QED), synthetic accessibility (SAS), and size.\n",
    "    It only analyzes the finished molecules (i.e., after SURGE tells generation to terminate).\n",
    "    \"\"\"\n",
    "    \n",
    "    flattened_states = []\n",
    "    flattened_t = []\n",
    "    for i in range(saved_states.shape[1]):\n",
    "        states_col = saved_states[:, i].flatten().tolist()\n",
    "        t_col = saved_actions['t'][:, i].flatten().tolist()\n",
    "        if i == 0:\n",
    "            flattened_states = states_col\n",
    "            flattened_t = t_col\n",
    "        else:\n",
    "            flattened_states += states_col\n",
    "            flattened_t += t_col\n",
    "    \n",
    "    idx = [i for i, t in enumerate(flattened_t) if t == 1]\n",
    "    finished_states = [flattened_states[idx[i]] for i in range(len(idx))]\n",
    "    \n",
    "    \n",
    "    # QED: From 0 to 1 where 1 is the most drug-like\n",
    "    # SAS: From 1 to 10 where 1 is the easiest to synthesize\n",
    "    metric_names = ['size', 'QED', 'SAS']\n",
    "    num_mols = len(finished_states)\n",
    "    metrics = dict()\n",
    "    for name in metric_names:\n",
    "        metrics[name] = 0\n",
    "        \n",
    "    for i in range(num_mols):\n",
    "        metrics['size'] += finished_states[i].GetNumAtoms()\n",
    "        metrics['QED'] += QED.weights_mean(finished_states[i])\n",
    "        metrics['SAS'] += sascorer.calculateScore(finished_states[i])\n",
    "    \n",
    "    for name in metric_names:\n",
    "        metrics[name] /= num_mols\n",
    "    \n",
    "    return metrics\n",
    "\n",
    "block_head = copy.deepcopy(saved_states)\n",
    "block_bed = copy.deepcopy(saved_actions)\n",
    "print(evaluate(block_head, block_bed))"
   ],
   "metadata": {
    "collapsed": false,
    "ExecuteTime": {
     "end_time": "2023-10-22T03:11:54.170640Z",
     "start_time": "2023-10-22T03:11:54.089258Z"
    }
   },
   "id": "129d2caf1577df9e"
  },
  {
   "cell_type": "code",
   "execution_count": 29,
   "outputs": [
    {
     "name": "stderr",
     "output_type": "stream",
     "text": [
      "Episode 0: 100%|██████████| 200/200 [00:02<00:00, 98.55steps/s] \n"
     ]
    },
    {
     "name": "stdout",
     "output_type": "stream",
     "text": [
      "Cumulative Reward: 54.903324127197266\n",
      "Cumulative Loss: 2.005544662475586\n"
     ]
    }
   ],
   "source": [
    "# Training loop\n",
    "best_reward_model = copy.deepcopy(model)\n",
    "best_reward = 0\n",
    "best_episode = 0\n",
    "for episode in range(num_episodes):\n",
    "\n",
    "    # Reset environment after each episode\n",
    "    states = env.reset()\n",
    "\n",
    "    # Episode loggers\n",
    "    keys = ['t', 'nmol', 'nfull', 'b']\n",
    "    saved_actions = {'t': [], 'nmol': [], 'nfull': [], 'b': []}\n",
    "    saved_log_probs = {'t': [], 'nmol': [], 'nfull': [], 'b': []}\n",
    "    saved_rewards = []\n",
    "    saved_states = np.array(states, dtype = object)\n",
    "\n",
    "    # Episode computation\n",
    "    pbar = trange(max_steps, unit=\"steps\")\n",
    "    for step in pbar:\n",
    "        pbar.set_description(f\"Episode {episode}\")\n",
    "        \n",
    "        # Compute actions and log probabilities\n",
    "        batch = batch_from_states(states)\n",
    "        actions, log_probs = model.act(batch)\n",
    "\n",
    "        # Record in episode loggers\n",
    "        for key in keys:\n",
    "            if step == 0:\n",
    "                saved_actions[key] = actions[key]\n",
    "                saved_log_probs[key] = log_probs[key]\n",
    "            else:\n",
    "                saved_actions[key] = np.vstack((saved_actions[key], actions[key]))\n",
    "                saved_log_probs[key] = torch.vstack((saved_log_probs[key], log_probs[key]))\n",
    "\n",
    "        # Take a step in environment\n",
    "        states, rewards, valids, timestep = env.step(actions['t'], actions['nmol'], actions['nfull'], actions['b'])\n",
    "        saved_states = np.vstack((saved_states, states))\n",
    "\n",
    "        # Record rewards\n",
    "        if step == 0:\n",
    "            saved_rewards = torch.tensor(rewards)\n",
    "        else:\n",
    "            saved_rewards = torch.vstack((saved_rewards, torch.tensor(rewards)))\n",
    "\n",
    "    # 3. Loss Calculation & Gradient Ascent\n",
    "    cumulative_reward = torch.sum(saved_rewards) / num_envs\n",
    "\n",
    "    # Calculate returns\n",
    "    all_returns = torch.tensor(num_envs)\n",
    "    returns = torch.zeros(num_envs)\n",
    "    for idx in reversed(range(max_steps)):\n",
    "        returns = saved_rewards[idx, :] + gamma * returns\n",
    "        if idx == max_steps - 1:\n",
    "            all_returns = returns\n",
    "        else:\n",
    "            all_returns = torch.vstack((returns, all_returns))\n",
    "    all_returns = (all_returns - all_returns.mean()) / (all_returns.std() + eps)\n",
    "\n",
    "    # Calculate loss\n",
    "    all_loss = dict()\n",
    "    cumulative_loss = 0\n",
    "    for key in keys:\n",
    "\n",
    "        # Find the average loss among vectorized environments for each SURGE component\n",
    "        individual_loss = -1 * all_returns * saved_log_probs[key] / num_envs\n",
    "        cumulative_loss += torch.sum(individual_loss)\n",
    "        all_loss[key] = torch.sum(individual_loss)\n",
    "\n",
    "    # Perform gradient ascent\n",
    "    optimizer.zero_grad()\n",
    "    cumulative_loss.backward()\n",
    "    optimizer.step()\n",
    "    \n",
    "    print(f\"Cumulative Reward: {cumulative_reward}\")\n",
    "    print(f\"Cumulative Loss: {cumulative_loss}\")\n",
    "    print()\n",
    "    \n",
    "    break\n",
    "    \n",
    "    if cumulative_reward > best_reward:\n",
    "        best_reward = cumulative_reward\n",
    "        best_model = copy.deepcopy(model)\n",
    "        best_episode = episode\n",
    "\n",
    "    wandb.log({\"Cumulative Reward\": cumulative_reward, \"Cumulative Loss\": cumulative_loss,\n",
    "               \"Termination Loss\": all_loss['t'], \"Nmol Loss\": all_loss['nmol'],\n",
    "               \"Nfull Loss\": all_loss['nfull'], \"Bond Loss\": all_loss['b']})"
   ],
   "metadata": {
    "collapsed": false,
    "ExecuteTime": {
     "end_time": "2023-10-22T02:48:13.133495Z",
     "start_time": "2023-10-22T02:48:10.785114Z"
    }
   },
   "id": "5bda2bbdddefc344"
  },
  {
   "cell_type": "code",
   "execution_count": 23,
   "outputs": [
    {
     "data": {
      "text/plain": "<IPython.core.display.HTML object>",
      "text/html": "Waiting for W&B process to finish... <strong style=\"color:green\">(success).</strong>"
     },
     "metadata": {},
     "output_type": "display_data"
    },
    {
     "data": {
      "text/plain": "VBox(children=(Label(value='0.001 MB of 0.001 MB uploaded (0.000 MB deduped)\\r'), FloatProgress(value=1.0, max…",
      "application/vnd.jupyter.widget-view+json": {
       "version_major": 2,
       "version_minor": 0,
       "model_id": "5ab5ad980a334461a676cb3d7310dccd"
      }
     },
     "metadata": {},
     "output_type": "display_data"
    },
    {
     "data": {
      "text/plain": "<IPython.core.display.HTML object>",
      "text/html": "<style>\n    table.wandb td:nth-child(1) { padding: 0 10px; text-align: left ; width: auto;} td:nth-child(2) {text-align: left ; width: 100%}\n    .wandb-row { display: flex; flex-direction: row; flex-wrap: wrap; justify-content: flex-start; width: 100% }\n    .wandb-col { display: flex; flex-direction: column; flex-basis: 100%; flex: 1; padding: 10px; }\n    </style>\n<div class=\"wandb-row\"><div class=\"wandb-col\"><h3>Run history:</h3><br/><table class=\"wandb\"><tr><td>Bond Loss</td><td>▂▂▄▂▁█▂▂</td></tr><tr><td>Cumulative Loss</td><td>▇▇█▁▁█▇▆</td></tr><tr><td>Cumulative Reward</td><td>▆▇▆▁▂▅██</td></tr><tr><td>Nfull Loss</td><td>▇██▂▁▇█▇</td></tr><tr><td>Nmol Loss</td><td>▇██▁▃▅▇▆</td></tr><tr><td>Termination Loss</td><td>▃▂▁█▆▅▂▃</td></tr></table><br/></div><div class=\"wandb-col\"><h3>Run summary:</h3><br/><table class=\"wandb\"><tr><td>Bond Loss</td><td>-0.02426</td></tr><tr><td>Cumulative Loss</td><td>-3.38729</td></tr><tr><td>Cumulative Reward</td><td>50.15389</td></tr><tr><td>Nfull Loss</td><td>-0.16317</td></tr><tr><td>Nmol Loss</td><td>-4.67441</td></tr><tr><td>Termination Loss</td><td>1.47454</td></tr></table><br/></div></div>"
     },
     "metadata": {},
     "output_type": "display_data"
    },
    {
     "data": {
      "text/plain": "<IPython.core.display.HTML object>",
      "text/html": " View run <strong style=\"color:#cdcd00\">REINFORCE---2023-10-21-20-21-19</strong> at: <a href='https://wandb.ai/maxwelljchen/RL_Drug_Generation/runs/tikmf9vr' target=\"_blank\">https://wandb.ai/maxwelljchen/RL_Drug_Generation/runs/tikmf9vr</a><br/> View job at <a href='https://wandb.ai/maxwelljchen/RL_Drug_Generation/jobs/QXJ0aWZhY3RDb2xsZWN0aW9uOjEwODgwMzAyMw==/version_details/v0' target=\"_blank\">https://wandb.ai/maxwelljchen/RL_Drug_Generation/jobs/QXJ0aWZhY3RDb2xsZWN0aW9uOjEwODgwMzAyMw==/version_details/v0</a><br/>Synced 6 W&B file(s), 0 media file(s), 2 artifact file(s) and 0 other file(s)"
     },
     "metadata": {},
     "output_type": "display_data"
    },
    {
     "data": {
      "text/plain": "<IPython.core.display.HTML object>",
      "text/html": "Find logs at: <code>./wandb/run-20231021_202121-tikmf9vr/logs</code>"
     },
     "metadata": {},
     "output_type": "display_data"
    }
   ],
   "source": [
    "wandb.finish()"
   ],
   "metadata": {
    "collapsed": false,
    "ExecuteTime": {
     "end_time": "2023-10-22T01:22:28.806939Z",
     "start_time": "2023-10-22T01:22:21.779205Z"
    }
   },
   "id": "778c374f34d1064c"
  },
  {
   "cell_type": "code",
   "execution_count": null,
   "outputs": [],
   "source": [],
   "metadata": {
    "collapsed": false
   },
   "id": "7550da18d31db150"
  }
 ],
 "metadata": {
  "kernelspec": {
   "display_name": "Python 3",
   "language": "python",
   "name": "python3"
  },
  "language_info": {
   "codemirror_mode": {
    "name": "ipython",
    "version": 2
   },
   "file_extension": ".py",
   "mimetype": "text/x-python",
   "name": "python",
   "nbconvert_exporter": "python",
   "pygments_lexer": "ipython2",
   "version": "2.7.6"
  }
 },
 "nbformat": 4,
 "nbformat_minor": 5
}
